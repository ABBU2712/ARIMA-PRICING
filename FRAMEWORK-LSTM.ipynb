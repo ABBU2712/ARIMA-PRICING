{
 "cells": [
  {
   "cell_type": "code",
   "execution_count": 1,
   "metadata": {},
   "outputs": [],
   "source": [
    "import pandas as pd\n",
    "import numpy as np\n",
    "import matplotlib.pyplot as plt\n",
    "%matplotlib inline"
   ]
  },
  {
   "cell_type": "code",
   "execution_count": 2,
   "metadata": {},
   "outputs": [],
   "source": [
    "df_price=pd.read_csv(\"prices.csv\")"
   ]
  },
  {
   "cell_type": "code",
   "execution_count": 3,
   "metadata": {},
   "outputs": [
    {
     "data": {
      "text/html": [
       "<div>\n",
       "<style scoped>\n",
       "    .dataframe tbody tr th:only-of-type {\n",
       "        vertical-align: middle;\n",
       "    }\n",
       "\n",
       "    .dataframe tbody tr th {\n",
       "        vertical-align: top;\n",
       "    }\n",
       "\n",
       "    .dataframe thead th {\n",
       "        text-align: right;\n",
       "    }\n",
       "</style>\n",
       "<table border=\"1\" class=\"dataframe\">\n",
       "  <thead>\n",
       "    <tr style=\"text-align: right;\">\n",
       "      <th></th>\n",
       "      <th>date</th>\n",
       "      <th>symbol</th>\n",
       "      <th>open</th>\n",
       "      <th>close</th>\n",
       "      <th>low</th>\n",
       "      <th>high</th>\n",
       "      <th>volume</th>\n",
       "    </tr>\n",
       "  </thead>\n",
       "  <tbody>\n",
       "    <tr>\n",
       "      <th>0</th>\n",
       "      <td>2016-01-05 00:00:00</td>\n",
       "      <td>WLTW</td>\n",
       "      <td>123.430000</td>\n",
       "      <td>125.839996</td>\n",
       "      <td>122.309998</td>\n",
       "      <td>126.250000</td>\n",
       "      <td>2163600.0</td>\n",
       "    </tr>\n",
       "    <tr>\n",
       "      <th>1</th>\n",
       "      <td>2016-01-06 00:00:00</td>\n",
       "      <td>WLTW</td>\n",
       "      <td>125.239998</td>\n",
       "      <td>119.980003</td>\n",
       "      <td>119.940002</td>\n",
       "      <td>125.540001</td>\n",
       "      <td>2386400.0</td>\n",
       "    </tr>\n",
       "    <tr>\n",
       "      <th>2</th>\n",
       "      <td>2016-01-07 00:00:00</td>\n",
       "      <td>WLTW</td>\n",
       "      <td>116.379997</td>\n",
       "      <td>114.949997</td>\n",
       "      <td>114.930000</td>\n",
       "      <td>119.739998</td>\n",
       "      <td>2489500.0</td>\n",
       "    </tr>\n",
       "    <tr>\n",
       "      <th>3</th>\n",
       "      <td>2016-01-08 00:00:00</td>\n",
       "      <td>WLTW</td>\n",
       "      <td>115.480003</td>\n",
       "      <td>116.620003</td>\n",
       "      <td>113.500000</td>\n",
       "      <td>117.440002</td>\n",
       "      <td>2006300.0</td>\n",
       "    </tr>\n",
       "    <tr>\n",
       "      <th>4</th>\n",
       "      <td>2016-01-11 00:00:00</td>\n",
       "      <td>WLTW</td>\n",
       "      <td>117.010002</td>\n",
       "      <td>114.970001</td>\n",
       "      <td>114.089996</td>\n",
       "      <td>117.330002</td>\n",
       "      <td>1408600.0</td>\n",
       "    </tr>\n",
       "  </tbody>\n",
       "</table>\n",
       "</div>"
      ],
      "text/plain": [
       "                  date symbol        open       close         low        high  \\\n",
       "0  2016-01-05 00:00:00   WLTW  123.430000  125.839996  122.309998  126.250000   \n",
       "1  2016-01-06 00:00:00   WLTW  125.239998  119.980003  119.940002  125.540001   \n",
       "2  2016-01-07 00:00:00   WLTW  116.379997  114.949997  114.930000  119.739998   \n",
       "3  2016-01-08 00:00:00   WLTW  115.480003  116.620003  113.500000  117.440002   \n",
       "4  2016-01-11 00:00:00   WLTW  117.010002  114.970001  114.089996  117.330002   \n",
       "\n",
       "      volume  \n",
       "0  2163600.0  \n",
       "1  2386400.0  \n",
       "2  2489500.0  \n",
       "3  2006300.0  \n",
       "4  1408600.0  "
      ]
     },
     "execution_count": 3,
     "metadata": {},
     "output_type": "execute_result"
    }
   ],
   "source": [
    "df_price.head()"
   ]
  },
  {
   "cell_type": "code",
   "execution_count": 4,
   "metadata": {},
   "outputs": [],
   "source": [
    "df_small=df_price.loc[0:5000]"
   ]
  },
  {
   "cell_type": "code",
   "execution_count": 5,
   "metadata": {},
   "outputs": [
    {
     "name": "stderr",
     "output_type": "stream",
     "text": [
      "F:\\Examples\\New folder\\envs\\tensorflow\\lib\\site-packages\\ipykernel_launcher.py:1: SettingWithCopyWarning: \n",
      "A value is trying to be set on a copy of a slice from a DataFrame.\n",
      "Try using .loc[row_indexer,col_indexer] = value instead\n",
      "\n",
      "See the caveats in the documentation: https://pandas.pydata.org/pandas-docs/stable/user_guide/indexing.html#returning-a-view-versus-a-copy\n",
      "  \"\"\"Entry point for launching an IPython kernel.\n"
     ]
    }
   ],
   "source": [
    "df_small['date'] = pd.to_datetime(df_small['date'])"
   ]
  },
  {
   "cell_type": "code",
   "execution_count": 6,
   "metadata": {},
   "outputs": [],
   "source": [
    "df_small.set_index('date',inplace=True)"
   ]
  },
  {
   "cell_type": "markdown",
   "metadata": {},
   "source": [
    "## NORMALIZATION AND TEST TRAIN SPLIT"
   ]
  },
  {
   "cell_type": "code",
   "execution_count": 7,
   "metadata": {},
   "outputs": [],
   "source": [
    "df_stock=df_small['close']"
   ]
  },
  {
   "cell_type": "code",
   "execution_count": 8,
   "metadata": {},
   "outputs": [],
   "source": [
    "from sklearn.preprocessing import MinMaxScaler\n",
    "scaler=MinMaxScaler(feature_range=(0,1))\n",
    "df_stc=scaler.fit_transform(np.array(df_stock).reshape(-1,1))"
   ]
  },
  {
   "cell_type": "code",
   "execution_count": 9,
   "metadata": {},
   "outputs": [
    {
     "name": "stdout",
     "output_type": "stream",
     "text": [
      "[[0.19895379]\n",
      " [0.18958262]\n",
      " [0.18153874]\n",
      " ...\n",
      " [0.00337427]\n",
      " [0.03569366]\n",
      " [0.03534184]]\n"
     ]
    }
   ],
   "source": [
    "print(df_stc)"
   ]
  },
  {
   "cell_type": "code",
   "execution_count": 10,
   "metadata": {},
   "outputs": [],
   "source": [
    "##splitting dataset into train and test split\n",
    "training_size=int(len(df_stc)*0.8)\n",
    "test_size=len(df_stc)-training_size\n",
    "train_data,test_data=df_stc[0:training_size,:],df_stc[training_size:len(df_stc),:1]"
   ]
  },
  {
   "cell_type": "code",
   "execution_count": 11,
   "metadata": {},
   "outputs": [
    {
     "data": {
      "text/plain": [
       "(4000, 1001)"
      ]
     },
     "execution_count": 11,
     "metadata": {},
     "output_type": "execute_result"
    }
   ],
   "source": [
    "training_size,test_size"
   ]
  },
  {
   "cell_type": "code",
   "execution_count": 12,
   "metadata": {},
   "outputs": [
    {
     "data": {
      "text/plain": [
       "array([[0.19895379],\n",
       "       [0.18958262],\n",
       "       [0.18153874],\n",
       "       ...,\n",
       "       [0.33262913],\n",
       "       [0.04122682],\n",
       "       [0.08622763]])"
      ]
     },
     "execution_count": 12,
     "metadata": {},
     "output_type": "execute_result"
    }
   ],
   "source": [
    "train_data"
   ]
  },
  {
   "cell_type": "code",
   "execution_count": 13,
   "metadata": {},
   "outputs": [],
   "source": [
    "# convert an array of values into a dataset matrix\n",
    "def create_dataset(dataset, time_step=1):\n",
    "\tdataX, dataY = [], []\n",
    "\tfor i in range(len(dataset)-time_step-1):\n",
    "\t\ta = dataset[i:(i+time_step), 0]   ###i=0, 0,1,2,3-----99   100 \n",
    "\t\tdataX.append(a)\n",
    "\t\tdataY.append(dataset[i + time_step, 0])\n",
    "\treturn np.array(dataX), np.array(dataY)"
   ]
  },
  {
   "cell_type": "code",
   "execution_count": 14,
   "metadata": {},
   "outputs": [],
   "source": [
    "# reshape into X=t,t+1,t+2,t+3 and Y=t+4\n",
    "time_step = 100\n",
    "X_train, y_train = create_dataset(train_data, time_step)\n",
    "X_test, ytest = create_dataset(test_data, time_step)"
   ]
  },
  {
   "cell_type": "code",
   "execution_count": 15,
   "metadata": {},
   "outputs": [
    {
     "name": "stdout",
     "output_type": "stream",
     "text": [
      "(3899, 100)\n",
      "(3899,)\n"
     ]
    },
    {
     "data": {
      "text/plain": [
       "(None, None)"
      ]
     },
     "execution_count": 15,
     "metadata": {},
     "output_type": "execute_result"
    }
   ],
   "source": [
    "print(X_train.shape), print(y_train.shape)"
   ]
  },
  {
   "cell_type": "markdown",
   "metadata": {},
   "source": [
    "### Here to make it a sequential data we have arranged the dataset in such a way that the price on the 4th day is a result of it's preceeding 3 says"
   ]
  },
  {
   "cell_type": "code",
   "execution_count": 16,
   "metadata": {},
   "outputs": [
    {
     "name": "stdout",
     "output_type": "stream",
     "text": [
      "(900, 100)\n",
      "(900,)\n"
     ]
    },
    {
     "data": {
      "text/plain": [
       "(None, None)"
      ]
     },
     "execution_count": 16,
     "metadata": {},
     "output_type": "execute_result"
    }
   ],
   "source": [
    "print(X_test.shape), print(ytest.shape)"
   ]
  },
  {
   "cell_type": "code",
   "execution_count": 17,
   "metadata": {},
   "outputs": [],
   "source": [
    "# reshape input to be [samples, time steps, features] which is required for LSTM\n",
    "X_train =X_train.reshape(X_train.shape[0],X_train.shape[1] , 1)\n",
    "X_test = X_test.reshape(X_test.shape[0],X_test.shape[1] , 1)"
   ]
  },
  {
   "cell_type": "markdown",
   "metadata": {},
   "source": [
    "## CREATING A STACKED LSTM MODEL"
   ]
  },
  {
   "cell_type": "code",
   "execution_count": 18,
   "metadata": {},
   "outputs": [],
   "source": [
    "from tensorflow.keras.models import Sequential\n",
    "from tensorflow.keras.layers import Dense\n",
    "from tensorflow.keras.layers import LSTM"
   ]
  },
  {
   "cell_type": "code",
   "execution_count": 19,
   "metadata": {},
   "outputs": [],
   "source": [
    "import tensorflow as tf"
   ]
  },
  {
   "cell_type": "code",
   "execution_count": 20,
   "metadata": {},
   "outputs": [],
   "source": [
    "model=Sequential()\n",
    "model.add(LSTM(50,return_sequences=True,input_shape=(100,1)))\n",
    "model.add(LSTM(50,return_sequences=True))\n",
    "model.add(LSTM(50))\n",
    "model.add(Dense(1))\n",
    "model.compile(loss='mean_squared_error',optimizer='adam')"
   ]
  },
  {
   "cell_type": "code",
   "execution_count": 22,
   "metadata": {},
   "outputs": [
    {
     "name": "stdout",
     "output_type": "stream",
     "text": [
      "Model: \"sequential\"\n",
      "_________________________________________________________________\n",
      "Layer (type)                 Output Shape              Param #   \n",
      "=================================================================\n",
      "lstm (LSTM)                  (None, 100, 50)           10400     \n",
      "_________________________________________________________________\n",
      "lstm_1 (LSTM)                (None, 100, 50)           20200     \n",
      "_________________________________________________________________\n",
      "lstm_2 (LSTM)                (None, 50)                20200     \n",
      "_________________________________________________________________\n",
      "dense (Dense)                (None, 1)                 51        \n",
      "=================================================================\n",
      "Total params: 50,851\n",
      "Trainable params: 50,851\n",
      "Non-trainable params: 0\n",
      "_________________________________________________________________\n"
     ]
    }
   ],
   "source": [
    "model.summary()"
   ]
  },
  {
   "cell_type": "code",
   "execution_count": 23,
   "metadata": {},
   "outputs": [
    {
     "name": "stdout",
     "output_type": "stream",
     "text": [
      "Epoch 1/100\n",
      "61/61 [==============================] - 14s 227ms/step - loss: 0.0069 - val_loss: 0.0063\n",
      "Epoch 2/100\n",
      "61/61 [==============================] - 10s 166ms/step - loss: 0.0066 - val_loss: 0.0063\n",
      "Epoch 3/100\n",
      "61/61 [==============================] - 10s 168ms/step - loss: 0.0065 - val_loss: 0.0063\n",
      "Epoch 4/100\n",
      "61/61 [==============================] - 10s 168ms/step - loss: 0.0066 - val_loss: 0.0062\n",
      "Epoch 5/100\n",
      "61/61 [==============================] - 10s 164ms/step - loss: 0.0065 - val_loss: 0.0062\n",
      "Epoch 6/100\n",
      "61/61 [==============================] - 11s 185ms/step - loss: 0.0064 - val_loss: 0.0062\n",
      "Epoch 7/100\n",
      "61/61 [==============================] - 11s 177ms/step - loss: 0.0064 - val_loss: 0.0062\n",
      "Epoch 8/100\n",
      "61/61 [==============================] - 11s 174ms/step - loss: 0.0064 - val_loss: 0.0062\n",
      "Epoch 9/100\n",
      "61/61 [==============================] - 11s 188ms/step - loss: 0.0064 - val_loss: 0.0062\n",
      "Epoch 10/100\n",
      "61/61 [==============================] - 10s 171ms/step - loss: 0.0064 - val_loss: 0.0062\n",
      "Epoch 11/100\n",
      "61/61 [==============================] - 10s 167ms/step - loss: 0.0063 - val_loss: 0.0062\n",
      "Epoch 12/100\n",
      "61/61 [==============================] - 11s 174ms/step - loss: 0.0064 - val_loss: 0.0062\n",
      "Epoch 13/100\n",
      "61/61 [==============================] - 11s 173ms/step - loss: 0.0064 - val_loss: 0.0062\n",
      "Epoch 14/100\n",
      "61/61 [==============================] - 11s 173ms/step - loss: 0.0063 - val_loss: 0.0062\n",
      "Epoch 15/100\n",
      "61/61 [==============================] - 10s 169ms/step - loss: 0.0064 - val_loss: 0.0062\n",
      "Epoch 16/100\n",
      "61/61 [==============================] - 12s 195ms/step - loss: 0.0063 - val_loss: 0.0062\n",
      "Epoch 17/100\n",
      "61/61 [==============================] - 12s 190ms/step - loss: 0.0063 - val_loss: 0.0062\n",
      "Epoch 18/100\n",
      "61/61 [==============================] - 12s 196ms/step - loss: 0.0063 - val_loss: 0.0062\n",
      "Epoch 19/100\n",
      "61/61 [==============================] - 11s 178ms/step - loss: 0.0063 - val_loss: 0.0061\n",
      "Epoch 20/100\n",
      "61/61 [==============================] - 11s 172ms/step - loss: 0.0063 - val_loss: 0.0061\n",
      "Epoch 21/100\n",
      "61/61 [==============================] - 11s 173ms/step - loss: 0.0063 - val_loss: 0.0061\n",
      "Epoch 22/100\n",
      "61/61 [==============================] - 10s 167ms/step - loss: 0.0062 - val_loss: 0.0061\n",
      "Epoch 23/100\n",
      "61/61 [==============================] - 11s 175ms/step - loss: 0.0062 - val_loss: 0.0060\n",
      "Epoch 24/100\n",
      "61/61 [==============================] - 10s 165ms/step - loss: 0.0061 - val_loss: 0.0060\n",
      "Epoch 25/100\n",
      "61/61 [==============================] - 10s 166ms/step - loss: 0.0061 - val_loss: 0.0059\n",
      "Epoch 26/100\n",
      "61/61 [==============================] - 10s 166ms/step - loss: 0.0061 - val_loss: 0.0060\n",
      "Epoch 27/100\n",
      "61/61 [==============================] - 10s 163ms/step - loss: 0.0061 - val_loss: 0.0059\n",
      "Epoch 28/100\n",
      "61/61 [==============================] - 10s 167ms/step - loss: 0.0059 - val_loss: 0.0061\n",
      "Epoch 29/100\n",
      "61/61 [==============================] - 10s 165ms/step - loss: 0.0060 - val_loss: 0.0059\n",
      "Epoch 30/100\n",
      "61/61 [==============================] - 10s 165ms/step - loss: 0.0060 - val_loss: 0.0056\n",
      "Epoch 31/100\n",
      "61/61 [==============================] - 10s 159ms/step - loss: 0.0057 - val_loss: 0.0056\n",
      "Epoch 32/100\n",
      "61/61 [==============================] - 10s 166ms/step - loss: 0.0058 - val_loss: 0.0052\n",
      "Epoch 33/100\n",
      "61/61 [==============================] - 10s 169ms/step - loss: 0.0052 - val_loss: 0.0049\n",
      "Epoch 34/100\n",
      "61/61 [==============================] - 11s 178ms/step - loss: 0.0050 - val_loss: 0.0048\n",
      "Epoch 35/100\n",
      "61/61 [==============================] - 11s 180ms/step - loss: 0.0049 - val_loss: 0.0046\n",
      "Epoch 36/100\n",
      "61/61 [==============================] - 11s 175ms/step - loss: 0.0049 - val_loss: 0.0048\n",
      "Epoch 37/100\n",
      "61/61 [==============================] - 11s 174ms/step - loss: 0.0049 - val_loss: 0.0046\n",
      "Epoch 38/100\n",
      "61/61 [==============================] - 10s 169ms/step - loss: 0.0047 - val_loss: 0.0044\n",
      "Epoch 39/100\n",
      "61/61 [==============================] - 10s 169ms/step - loss: 0.0046 - val_loss: 0.0043\n",
      "Epoch 40/100\n",
      "61/61 [==============================] - 10s 166ms/step - loss: 0.0045 - val_loss: 0.0042\n",
      "Epoch 41/100\n",
      "61/61 [==============================] - 10s 163ms/step - loss: 0.0044 - val_loss: 0.0042\n",
      "Epoch 42/100\n",
      "61/61 [==============================] - 10s 167ms/step - loss: 0.0043 - val_loss: 0.0040\n",
      "Epoch 43/100\n",
      "61/61 [==============================] - 10s 164ms/step - loss: 0.0046 - val_loss: 0.0046\n",
      "Epoch 44/100\n",
      "61/61 [==============================] - 10s 167ms/step - loss: 0.0043 - val_loss: 0.0038\n",
      "Epoch 45/100\n",
      "61/61 [==============================] - 11s 181ms/step - loss: 0.0044 - val_loss: 0.0046\n",
      "Epoch 46/100\n",
      "61/61 [==============================] - 11s 183ms/step - loss: 0.0044 - val_loss: 0.0042\n",
      "Epoch 47/100\n",
      "61/61 [==============================] - 11s 186ms/step - loss: 0.0043 - val_loss: 0.0042\n",
      "Epoch 48/100\n",
      "61/61 [==============================] - 10s 172ms/step - loss: 0.0040 - val_loss: 0.0036\n",
      "Epoch 49/100\n",
      "61/61 [==============================] - 10s 168ms/step - loss: 0.0037 - val_loss: 0.0033\n",
      "Epoch 50/100\n",
      "61/61 [==============================] - 13s 216ms/step - loss: 0.0040 - val_loss: 0.0037\n",
      "Epoch 51/100\n",
      "61/61 [==============================] - 11s 181ms/step - loss: 0.0041 - val_loss: 0.0033\n",
      "Epoch 52/100\n",
      "61/61 [==============================] - 12s 193ms/step - loss: 0.0033 - val_loss: 0.0032\n",
      "Epoch 53/100\n",
      "61/61 [==============================] - 12s 204ms/step - loss: 0.0031 - val_loss: 0.0036\n",
      "Epoch 54/100\n",
      "61/61 [==============================] - 10s 167ms/step - loss: 0.0034 - val_loss: 0.0028\n",
      "Epoch 55/100\n",
      "61/61 [==============================] - 10s 166ms/step - loss: 0.0031 - val_loss: 0.0035\n",
      "Epoch 56/100\n",
      "61/61 [==============================] - 10s 166ms/step - loss: 0.0050 - val_loss: 0.0036\n",
      "Epoch 57/100\n",
      "61/61 [==============================] - 10s 164ms/step - loss: 0.0033 - val_loss: 0.0030\n",
      "Epoch 58/100\n",
      "61/61 [==============================] - 10s 165ms/step - loss: 0.0035 - val_loss: 0.0035\n",
      "Epoch 59/100\n",
      "61/61 [==============================] - 10s 166ms/step - loss: 0.0033 - val_loss: 0.0025\n",
      "Epoch 60/100\n",
      "61/61 [==============================] - 10s 164ms/step - loss: 0.0025 - val_loss: 0.0020\n",
      "Epoch 61/100\n",
      "61/61 [==============================] - 10s 166ms/step - loss: 0.0022 - val_loss: 0.0022\n",
      "Epoch 62/100\n",
      "61/61 [==============================] - 10s 167ms/step - loss: 0.0023 - val_loss: 0.0019\n",
      "Epoch 63/100\n",
      "61/61 [==============================] - 10s 164ms/step - loss: 0.0020 - val_loss: 0.0022\n",
      "Epoch 64/100\n",
      "61/61 [==============================] - 10s 167ms/step - loss: 0.0020 - val_loss: 0.0016\n",
      "Epoch 65/100\n",
      "61/61 [==============================] - 10s 168ms/step - loss: 0.0018 - val_loss: 0.0017\n",
      "Epoch 66/100\n",
      "61/61 [==============================] - 10s 165ms/step - loss: 0.0019 - val_loss: 0.0021\n",
      "Epoch 67/100\n",
      "61/61 [==============================] - 10s 166ms/step - loss: 0.0031 - val_loss: 0.0021\n",
      "Epoch 68/100\n",
      "61/61 [==============================] - 10s 164ms/step - loss: 0.0019 - val_loss: 0.0015\n",
      "Epoch 69/100\n",
      "61/61 [==============================] - 10s 166ms/step - loss: 0.0015 - val_loss: 0.0013\n",
      "Epoch 70/100\n",
      "61/61 [==============================] - 10s 169ms/step - loss: 0.0014 - val_loss: 0.0014\n",
      "Epoch 71/100\n",
      "61/61 [==============================] - 11s 178ms/step - loss: 0.0015 - val_loss: 0.0013\n",
      "Epoch 72/100\n",
      "61/61 [==============================] - 11s 178ms/step - loss: 0.0014 - val_loss: 0.0020\n",
      "Epoch 73/100\n",
      "61/61 [==============================] - 10s 168ms/step - loss: 0.0017 - val_loss: 0.0014\n",
      "Epoch 74/100\n",
      "61/61 [==============================] - 11s 173ms/step - loss: 0.0015 - val_loss: 0.0012\n",
      "Epoch 75/100\n",
      "61/61 [==============================] - 10s 163ms/step - loss: 0.0013 - val_loss: 0.0012\n",
      "Epoch 76/100\n",
      "61/61 [==============================] - 10s 166ms/step - loss: 0.0013 - val_loss: 0.0013\n",
      "Epoch 77/100\n",
      "61/61 [==============================] - 10s 162ms/step - loss: 0.0012 - val_loss: 0.0011\n",
      "Epoch 78/100\n",
      "61/61 [==============================] - 10s 170ms/step - loss: 0.0011 - val_loss: 9.9964e-04\n",
      "Epoch 79/100\n",
      "61/61 [==============================] - 10s 169ms/step - loss: 0.0011 - val_loss: 0.0010\n",
      "Epoch 80/100\n"
     ]
    },
    {
     "name": "stdout",
     "output_type": "stream",
     "text": [
      "61/61 [==============================] - 10s 164ms/step - loss: 0.0012 - val_loss: 0.0010\n",
      "Epoch 81/100\n",
      "61/61 [==============================] - 10s 166ms/step - loss: 0.0010 - val_loss: 0.0013\n",
      "Epoch 82/100\n",
      "61/61 [==============================] - 10s 165ms/step - loss: 0.0012 - val_loss: 9.2951e-04\n",
      "Epoch 83/100\n",
      "61/61 [==============================] - 11s 182ms/step - loss: 9.6293e-04 - val_loss: 8.2945e-04\n",
      "Epoch 84/100\n",
      "61/61 [==============================] - 13s 210ms/step - loss: 9.0112e-04 - val_loss: 8.4888e-04\n",
      "Epoch 85/100\n",
      "61/61 [==============================] - 14s 223ms/step - loss: 8.6754e-04 - val_loss: 7.7690e-04\n",
      "Epoch 86/100\n",
      "61/61 [==============================] - 11s 185ms/step - loss: 9.8288e-04 - val_loss: 0.0012\n",
      "Epoch 87/100\n",
      "61/61 [==============================] - 12s 202ms/step - loss: 0.0011 - val_loss: 0.0010\n",
      "Epoch 88/100\n",
      "61/61 [==============================] - 10s 168ms/step - loss: 8.1147e-04 - val_loss: 7.5334e-04\n",
      "Epoch 89/100\n",
      "61/61 [==============================] - 10s 165ms/step - loss: 7.4694e-04 - val_loss: 7.7767e-04\n",
      "Epoch 90/100\n",
      "61/61 [==============================] - 10s 169ms/step - loss: 7.6534e-04 - val_loss: 6.4017e-04\n",
      "Epoch 91/100\n",
      "61/61 [==============================] - 11s 183ms/step - loss: 7.9336e-04 - val_loss: 8.0748e-04\n",
      "Epoch 92/100\n",
      "61/61 [==============================] - 10s 170ms/step - loss: 7.3534e-04 - val_loss: 6.5090e-04\n",
      "Epoch 93/100\n",
      "61/61 [==============================] - 10s 167ms/step - loss: 7.1138e-04 - val_loss: 8.8672e-04\n",
      "Epoch 94/100\n",
      "61/61 [==============================] - 11s 172ms/step - loss: 6.6934e-04 - val_loss: 6.0981e-04\n",
      "Epoch 95/100\n",
      "61/61 [==============================] - 10s 170ms/step - loss: 6.6406e-04 - val_loss: 5.9878e-04\n",
      "Epoch 96/100\n",
      "61/61 [==============================] - 10s 165ms/step - loss: 6.4502e-04 - val_loss: 6.5939e-04\n",
      "Epoch 97/100\n",
      "61/61 [==============================] - 10s 169ms/step - loss: 6.1501e-04 - val_loss: 6.3228e-04\n",
      "Epoch 98/100\n",
      "61/61 [==============================] - 11s 178ms/step - loss: 7.2260e-04 - val_loss: 5.8070e-04\n",
      "Epoch 99/100\n",
      "61/61 [==============================] - 11s 174ms/step - loss: 5.8584e-04 - val_loss: 5.2293e-04\n",
      "Epoch 100/100\n",
      "61/61 [==============================] - 11s 176ms/step - loss: 5.8965e-04 - val_loss: 5.9492e-04\n"
     ]
    },
    {
     "data": {
      "text/plain": [
       "<tensorflow.python.keras.callbacks.History at 0x1f66a5ff708>"
      ]
     },
     "execution_count": 23,
     "metadata": {},
     "output_type": "execute_result"
    }
   ],
   "source": [
    "model.fit(X_train,y_train,validation_data=(X_test,ytest),epochs=100,batch_size=64,verbose=1)"
   ]
  },
  {
   "cell_type": "markdown",
   "metadata": {},
   "source": [
    "## QUICK NOTE\n",
    "### 1. Epoch: One Epoch is when an entire dataset is passed forward and backward through the neural network only ONCE.\n",
    "### 2. Batch Size:Total number of training examples present in a single batch."
   ]
  },
  {
   "cell_type": "code",
   "execution_count": 24,
   "metadata": {},
   "outputs": [],
   "source": [
    "### Lets Do the prediction and check performance metrics\n",
    "train_predict=model.predict(X_train)\n",
    "test_predict=model.predict(X_test)"
   ]
  },
  {
   "cell_type": "code",
   "execution_count": 25,
   "metadata": {},
   "outputs": [],
   "source": [
    "##Transformback to original form\n",
    "train_predict=scaler.inverse_transform(train_predict)\n",
    "test_predict=scaler.inverse_transform(test_predict)"
   ]
  },
  {
   "cell_type": "code",
   "execution_count": 26,
   "metadata": {},
   "outputs": [
    {
     "data": {
      "text/plain": [
       "70.1393645994588"
      ]
     },
     "execution_count": 26,
     "metadata": {},
     "output_type": "execute_result"
    }
   ],
   "source": [
    "### Calculate RMSE performance metrics\n",
    "import math\n",
    "from sklearn.metrics import mean_squared_error\n",
    "math.sqrt(mean_squared_error(y_train,train_predict))"
   ]
  },
  {
   "cell_type": "code",
   "execution_count": 27,
   "metadata": {},
   "outputs": [
    {
     "data": {
      "text/plain": [
       "66.27209140262946"
      ]
     },
     "execution_count": 27,
     "metadata": {},
     "output_type": "execute_result"
    }
   ],
   "source": [
    "### Test Data RMSE\n",
    "math.sqrt(mean_squared_error(ytest,test_predict))"
   ]
  },
  {
   "cell_type": "code",
   "execution_count": 31,
   "metadata": {},
   "outputs": [
    {
     "data": {
      "image/png": "[encoded data removed]",
      "text/plain": [
       "<Figure size 432x288 with 1 Axes>"
      ]
     },
     "metadata": {
      "needs_background": "light"
     },
     "output_type": "display_data"
    }
   ],
   "source": [
    "### Plotting \n",
    "# shift train predictions for plotting\n",
    "look_back=100\n",
    "trainPredictPlot = np.empty_like(df_stc)\n",
    "trainPredictPlot[:, :] = np.nan\n",
    "trainPredictPlot[look_back:len(train_predict)+look_back, :] = train_predict\n",
    "# shift test predictions for plotting\n",
    "testPredictPlot = np.empty_like(df_stc)\n",
    "testPredictPlot[:, :] = np.nan\n",
    "testPredictPlot[len(train_predict)+(look_back*2)+1:len(df_stc)-1, :] = test_predict\n",
    "# plot baseline and predictions\n",
    "plt.plot(scaler.inverse_transform(df_stc))\n",
    "plt.plot(trainPredictPlot)\n",
    "plt.plot(testPredictPlot)\n",
    "plt.show()"
   ]
  },
  {
   "cell_type": "code",
   "execution_count": 32,
   "metadata": {},
   "outputs": [
    {
     "data": {
      "text/plain": [
       "1001"
      ]
     },
     "execution_count": 32,
     "metadata": {},
     "output_type": "execute_result"
    }
   ],
   "source": [
    "len(test_data)"
   ]
  },
  {
   "cell_type": "code",
   "execution_count": 33,
   "metadata": {},
   "outputs": [
    {
     "data": {
      "text/plain": [
       "901"
      ]
     },
     "execution_count": 33,
     "metadata": {},
     "output_type": "execute_result"
    }
   ],
   "source": [
    "1001-100"
   ]
  },
  {
   "cell_type": "code",
   "execution_count": 34,
   "metadata": {},
   "outputs": [
    {
     "data": {
      "text/plain": [
       "(1, 100)"
      ]
     },
     "execution_count": 34,
     "metadata": {},
     "output_type": "execute_result"
    }
   ],
   "source": [
    "x_input=test_data[901:].reshape(1,-1)\n",
    "x_input.shape"
   ]
  },
  {
   "cell_type": "code",
   "execution_count": 35,
   "metadata": {},
   "outputs": [],
   "source": [
    "\n",
    "temp_input=list(x_input)\n",
    "temp_input=temp_input[0].tolist()"
   ]
  },
  {
   "cell_type": "code",
   "execution_count": 36,
   "metadata": {},
   "outputs": [
    {
     "data": {
      "text/plain": [
       "[0.06201614085728034,\n",
       " 0.06914847539414636,\n",
       " 0.0466158599446245,\n",
       " 0.09487925755310517,\n",
       " 0.056243104852020956,\n",
       " 0.06804504542347405,\n",
       " 0.07811986841108488,\n",
       " 0.04261810718062476,\n",
       " 0.04241021557404412,\n",
       " 0.12932557056478222,\n",
       " 0.05088586005581538,\n",
       " 0.03188753464998038,\n",
       " 0.08355707693011796,\n",
       " 0.02894513255487487,\n",
       " 0.06742136580619662,\n",
       " 0.03433436252037574,\n",
       " 0.11045525939833967,\n",
       " 0.08523621436124952,\n",
       " 0.03195158654667477,\n",
       " 0.025043135401447796,\n",
       " 0.03532585319399628,\n",
       " 0.10823240287440115,\n",
       " 0.055203643620760745,\n",
       " 0.011849912728271274,\n",
       " 0.02461135720487111,\n",
       " 0.05475587203994716,\n",
       " 0.09646244747224336,\n",
       " 0.023715817241600948,\n",
       " 0.023987677587593674,\n",
       " 0.046967872716508416,\n",
       " 0.0067325415095846235,\n",
       " 0.06088072571731275,\n",
       " 0.34160051263649976,\n",
       " 0.04148269204065716,\n",
       " 0.0875869268059084,\n",
       " 0.06767723436713095,\n",
       " 0.05680282212660032,\n",
       " 0.04484096370456327,\n",
       " 0.04655208790416863,\n",
       " 0.06633392602140421,\n",
       " 0.10525792925436105,\n",
       " 0.03956367623447117,\n",
       " 0.041994429162525826,\n",
       " 0.05598723789026513,\n",
       " 0.020309567024162645,\n",
       " 0.049942344737370026,\n",
       " 0.08103037169253442,\n",
       " 0.06460681483427598,\n",
       " 0.04288996752661749,\n",
       " 0.047015848071683596,\n",
       " 0.03329489649158002,\n",
       " 0.04124281206642422,\n",
       " 0.05907365240653552,\n",
       " 0.057154636600349515,\n",
       " 0.047911386435775256,\n",
       " 0.07388204856896702,\n",
       " 0.02005369846322831,\n",
       " 0.05956939774334579,\n",
       " 0.10693707148302813,\n",
       " 0.08974589614853863,\n",
       " 0.06497462429144057,\n",
       " 0.06838087131052185,\n",
       " 0.2017843454660165,\n",
       " 0.028641287039586846,\n",
       " 0.10655326064573407,\n",
       " 0.05821010081091766,\n",
       " 0.1710641279680167,\n",
       " 0.10473019714907698,\n",
       " 0.12977332775298925,\n",
       " 0.06820496647241503,\n",
       " 0.02269236378718419,\n",
       " 0.01504826973995043,\n",
       " 0.1270707224748344,\n",
       " 0.026194542326473787,\n",
       " 0.061792257465641307,\n",
       " 0.03369469111803991,\n",
       " 0.06641388174833919,\n",
       " 0.05907365240653552,\n",
       " 0.2492319685359198,\n",
       " 0.09470335431417684,\n",
       " 0.02381176795195132,\n",
       " 0.09596669573871906,\n",
       " 0.0629756511591411,\n",
       " 0.04276203324615033,\n",
       " 0.0602410511166199,\n",
       " 0.13177231207953827,\n",
       " 0.12131368305216891,\n",
       " 0.17480620567168134,\n",
       " 0.07455370034306263,\n",
       " 0.0860358036141693,\n",
       " 0.04493691761327065,\n",
       " 0.38153199992731407,\n",
       " 0.080790499714194,\n",
       " 0.038732103411434585,\n",
       " 0.013097271962826146,\n",
       " 0.05797022083668471,\n",
       " 0.10890405464849678,\n",
       " 0.0033742666473215105,\n",
       " 0.03569366425033939,\n",
       " 0.035341841780697665]"
      ]
     },
     "execution_count": 36,
     "metadata": {},
     "output_type": "execute_result"
    }
   ],
   "source": [
    "temp_input"
   ]
  },
  {
   "cell_type": "code",
   "execution_count": 38,
   "metadata": {},
   "outputs": [
    {
     "name": "stdout",
     "output_type": "stream",
     "text": [
      "[0.03460075]\n",
      "101\n",
      "1 day input [0.06914848 0.04661586 0.09487926 0.0562431  0.06804505 0.07811987\n",
      " 0.04261811 0.04241022 0.12932557 0.05088586 0.03188753 0.08355708\n",
      " 0.02894513 0.06742137 0.03433436 0.11045526 0.08523621 0.03195159\n",
      " 0.02504314 0.03532585 0.1082324  0.05520364 0.01184991 0.02461136\n",
      " 0.05475587 0.09646245 0.02371582 0.02398768 0.04696787 0.00673254\n",
      " 0.06088073 0.34160051 0.04148269 0.08758693 0.06767723 0.05680282\n",
      " 0.04484096 0.04655209 0.06633393 0.10525793 0.03956368 0.04199443\n",
      " 0.05598724 0.02030957 0.04994234 0.08103037 0.06460681 0.04288997\n",
      " 0.04701585 0.0332949  0.04124281 0.05907365 0.05715464 0.04791139\n",
      " 0.07388205 0.0200537  0.0595694  0.10693707 0.0897459  0.06497462\n",
      " 0.06838087 0.20178435 0.02864129 0.10655326 0.0582101  0.17106413\n",
      " 0.1047302  0.12977333 0.06820497 0.02269236 0.01504827 0.12707072\n",
      " 0.02619454 0.06179226 0.03369469 0.06641388 0.05907365 0.24923197\n",
      " 0.09470335 0.02381177 0.0959667  0.06297565 0.04276203 0.06024105\n",
      " 0.13177231 0.12131368 0.17480621 0.0745537  0.0860358  0.04493692\n",
      " 0.381532   0.0807905  0.0387321  0.01309727 0.05797022 0.10890405\n",
      " 0.00337427 0.03569366 0.03534184 0.03460075]\n",
      "1 day output [[0.08343022]]\n",
      "2 day input [0.04661586 0.09487926 0.0562431  0.06804505 0.07811987 0.04261811\n",
      " 0.04241022 0.12932557 0.05088586 0.03188753 0.08355708 0.02894513\n",
      " 0.06742137 0.03433436 0.11045526 0.08523621 0.03195159 0.02504314\n",
      " 0.03532585 0.1082324  0.05520364 0.01184991 0.02461136 0.05475587\n",
      " 0.09646245 0.02371582 0.02398768 0.04696787 0.00673254 0.06088073\n",
      " 0.34160051 0.04148269 0.08758693 0.06767723 0.05680282 0.04484096\n",
      " 0.04655209 0.06633393 0.10525793 0.03956368 0.04199443 0.05598724\n",
      " 0.02030957 0.04994234 0.08103037 0.06460681 0.04288997 0.04701585\n",
      " 0.0332949  0.04124281 0.05907365 0.05715464 0.04791139 0.07388205\n",
      " 0.0200537  0.0595694  0.10693707 0.0897459  0.06497462 0.06838087\n",
      " 0.20178435 0.02864129 0.10655326 0.0582101  0.17106413 0.1047302\n",
      " 0.12977333 0.06820497 0.02269236 0.01504827 0.12707072 0.02619454\n",
      " 0.06179226 0.03369469 0.06641388 0.05907365 0.24923197 0.09470335\n",
      " 0.02381177 0.0959667  0.06297565 0.04276203 0.06024105 0.13177231\n",
      " 0.12131368 0.17480621 0.0745537  0.0860358  0.04493692 0.381532\n",
      " 0.0807905  0.0387321  0.01309727 0.05797022 0.10890405 0.00337427\n",
      " 0.03569366 0.03534184 0.03460075 0.08343022]\n",
      "2 day output [[0.07366078]]\n",
      "3 day input [0.09487926 0.0562431  0.06804505 0.07811987 0.04261811 0.04241022\n",
      " 0.12932557 0.05088586 0.03188753 0.08355708 0.02894513 0.06742137\n",
      " 0.03433436 0.11045526 0.08523621 0.03195159 0.02504314 0.03532585\n",
      " 0.1082324  0.05520364 0.01184991 0.02461136 0.05475587 0.09646245\n",
      " 0.02371582 0.02398768 0.04696787 0.00673254 0.06088073 0.34160051\n",
      " 0.04148269 0.08758693 0.06767723 0.05680282 0.04484096 0.04655209\n",
      " 0.06633393 0.10525793 0.03956368 0.04199443 0.05598724 0.02030957\n",
      " 0.04994234 0.08103037 0.06460681 0.04288997 0.04701585 0.0332949\n",
      " 0.04124281 0.05907365 0.05715464 0.04791139 0.07388205 0.0200537\n",
      " 0.0595694  0.10693707 0.0897459  0.06497462 0.06838087 0.20178435\n",
      " 0.02864129 0.10655326 0.0582101  0.17106413 0.1047302  0.12977333\n",
      " 0.06820497 0.02269236 0.01504827 0.12707072 0.02619454 0.06179226\n",
      " 0.03369469 0.06641388 0.05907365 0.24923197 0.09470335 0.02381177\n",
      " 0.0959667  0.06297565 0.04276203 0.06024105 0.13177231 0.12131368\n",
      " 0.17480621 0.0745537  0.0860358  0.04493692 0.381532   0.0807905\n",
      " 0.0387321  0.01309727 0.05797022 0.10890405 0.00337427 0.03569366\n",
      " 0.03534184 0.03460075 0.08343022 0.07366078]\n",
      "3 day output [[0.04093158]]\n",
      "4 day input [0.0562431  0.06804505 0.07811987 0.04261811 0.04241022 0.12932557\n",
      " 0.05088586 0.03188753 0.08355708 0.02894513 0.06742137 0.03433436\n",
      " 0.11045526 0.08523621 0.03195159 0.02504314 0.03532585 0.1082324\n",
      " 0.05520364 0.01184991 0.02461136 0.05475587 0.09646245 0.02371582\n",
      " 0.02398768 0.04696787 0.00673254 0.06088073 0.34160051 0.04148269\n",
      " 0.08758693 0.06767723 0.05680282 0.04484096 0.04655209 0.06633393\n",
      " 0.10525793 0.03956368 0.04199443 0.05598724 0.02030957 0.04994234\n",
      " 0.08103037 0.06460681 0.04288997 0.04701585 0.0332949  0.04124281\n",
      " 0.05907365 0.05715464 0.04791139 0.07388205 0.0200537  0.0595694\n",
      " 0.10693707 0.0897459  0.06497462 0.06838087 0.20178435 0.02864129\n",
      " 0.10655326 0.0582101  0.17106413 0.1047302  0.12977333 0.06820497\n",
      " 0.02269236 0.01504827 0.12707072 0.02619454 0.06179226 0.03369469\n",
      " 0.06641388 0.05907365 0.24923197 0.09470335 0.02381177 0.0959667\n",
      " 0.06297565 0.04276203 0.06024105 0.13177231 0.12131368 0.17480621\n",
      " 0.0745537  0.0860358  0.04493692 0.381532   0.0807905  0.0387321\n",
      " 0.01309727 0.05797022 0.10890405 0.00337427 0.03569366 0.03534184\n",
      " 0.03460075 0.08343022 0.07366078 0.04093158]\n",
      "4 day output [[0.02827691]]\n",
      "5 day input [0.06804505 0.07811987 0.04261811 0.04241022 0.12932557 0.05088586\n",
      " 0.03188753 0.08355708 0.02894513 0.06742137 0.03433436 0.11045526\n",
      " 0.08523621 0.03195159 0.02504314 0.03532585 0.1082324  0.05520364\n",
      " 0.01184991 0.02461136 0.05475587 0.09646245 0.02371582 0.02398768\n",
      " 0.04696787 0.00673254 0.06088073 0.34160051 0.04148269 0.08758693\n",
      " 0.06767723 0.05680282 0.04484096 0.04655209 0.06633393 0.10525793\n",
      " 0.03956368 0.04199443 0.05598724 0.02030957 0.04994234 0.08103037\n",
      " 0.06460681 0.04288997 0.04701585 0.0332949  0.04124281 0.05907365\n",
      " 0.05715464 0.04791139 0.07388205 0.0200537  0.0595694  0.10693707\n",
      " 0.0897459  0.06497462 0.06838087 0.20178435 0.02864129 0.10655326\n",
      " 0.0582101  0.17106413 0.1047302  0.12977333 0.06820497 0.02269236\n",
      " 0.01504827 0.12707072 0.02619454 0.06179226 0.03369469 0.06641388\n",
      " 0.05907365 0.24923197 0.09470335 0.02381177 0.0959667  0.06297565\n",
      " 0.04276203 0.06024105 0.13177231 0.12131368 0.17480621 0.0745537\n",
      " 0.0860358  0.04493692 0.381532   0.0807905  0.0387321  0.01309727\n",
      " 0.05797022 0.10890405 0.00337427 0.03569366 0.03534184 0.03460075\n",
      " 0.08343022 0.07366078 0.04093158 0.02827691]\n",
      "5 day output [[0.03686078]]\n",
      "6 day input [0.07811987 0.04261811 0.04241022 0.12932557 0.05088586 0.03188753\n",
      " 0.08355708 0.02894513 0.06742137 0.03433436 0.11045526 0.08523621\n",
      " 0.03195159 0.02504314 0.03532585 0.1082324  0.05520364 0.01184991\n",
      " 0.02461136 0.05475587 0.09646245 0.02371582 0.02398768 0.04696787\n",
      " 0.00673254 0.06088073 0.34160051 0.04148269 0.08758693 0.06767723\n",
      " 0.05680282 0.04484096 0.04655209 0.06633393 0.10525793 0.03956368\n",
      " 0.04199443 0.05598724 0.02030957 0.04994234 0.08103037 0.06460681\n",
      " 0.04288997 0.04701585 0.0332949  0.04124281 0.05907365 0.05715464\n",
      " 0.04791139 0.07388205 0.0200537  0.0595694  0.10693707 0.0897459\n",
      " 0.06497462 0.06838087 0.20178435 0.02864129 0.10655326 0.0582101\n",
      " 0.17106413 0.1047302  0.12977333 0.06820497 0.02269236 0.01504827\n",
      " 0.12707072 0.02619454 0.06179226 0.03369469 0.06641388 0.05907365\n",
      " 0.24923197 0.09470335 0.02381177 0.0959667  0.06297565 0.04276203\n",
      " 0.06024105 0.13177231 0.12131368 0.17480621 0.0745537  0.0860358\n",
      " 0.04493692 0.381532   0.0807905  0.0387321  0.01309727 0.05797022\n",
      " 0.10890405 0.00337427 0.03569366 0.03534184 0.03460075 0.08343022\n",
      " 0.07366078 0.04093158 0.02827691 0.03686078]\n",
      "6 day output [[0.05974205]]\n",
      "7 day input [0.04261811 0.04241022 0.12932557 0.05088586 0.03188753 0.08355708\n",
      " 0.02894513 0.06742137 0.03433436 0.11045526 0.08523621 0.03195159\n",
      " 0.02504314 0.03532585 0.1082324  0.05520364 0.01184991 0.02461136\n",
      " 0.05475587 0.09646245 0.02371582 0.02398768 0.04696787 0.00673254\n",
      " 0.06088073 0.34160051 0.04148269 0.08758693 0.06767723 0.05680282\n",
      " 0.04484096 0.04655209 0.06633393 0.10525793 0.03956368 0.04199443\n",
      " 0.05598724 0.02030957 0.04994234 0.08103037 0.06460681 0.04288997\n",
      " 0.04701585 0.0332949  0.04124281 0.05907365 0.05715464 0.04791139\n",
      " 0.07388205 0.0200537  0.0595694  0.10693707 0.0897459  0.06497462\n",
      " 0.06838087 0.20178435 0.02864129 0.10655326 0.0582101  0.17106413\n",
      " 0.1047302  0.12977333 0.06820497 0.02269236 0.01504827 0.12707072\n",
      " 0.02619454 0.06179226 0.03369469 0.06641388 0.05907365 0.24923197\n",
      " 0.09470335 0.02381177 0.0959667  0.06297565 0.04276203 0.06024105\n",
      " 0.13177231 0.12131368 0.17480621 0.0745537  0.0860358  0.04493692\n",
      " 0.381532   0.0807905  0.0387321  0.01309727 0.05797022 0.10890405\n",
      " 0.00337427 0.03569366 0.03534184 0.03460075 0.08343022 0.07366078\n",
      " 0.04093158 0.02827691 0.03686078 0.05974205]\n",
      "7 day output [[0.09215523]]\n",
      "8 day input [0.04241022 0.12932557 0.05088586 0.03188753 0.08355708 0.02894513\n",
      " 0.06742137 0.03433436 0.11045526 0.08523621 0.03195159 0.02504314\n",
      " 0.03532585 0.1082324  0.05520364 0.01184991 0.02461136 0.05475587\n",
      " 0.09646245 0.02371582 0.02398768 0.04696787 0.00673254 0.06088073\n",
      " 0.34160051 0.04148269 0.08758693 0.06767723 0.05680282 0.04484096\n",
      " 0.04655209 0.06633393 0.10525793 0.03956368 0.04199443 0.05598724\n",
      " 0.02030957 0.04994234 0.08103037 0.06460681 0.04288997 0.04701585\n",
      " 0.0332949  0.04124281 0.05907365 0.05715464 0.04791139 0.07388205\n",
      " 0.0200537  0.0595694  0.10693707 0.0897459  0.06497462 0.06838087\n",
      " 0.20178435 0.02864129 0.10655326 0.0582101  0.17106413 0.1047302\n",
      " 0.12977333 0.06820497 0.02269236 0.01504827 0.12707072 0.02619454\n",
      " 0.06179226 0.03369469 0.06641388 0.05907365 0.24923197 0.09470335\n",
      " 0.02381177 0.0959667  0.06297565 0.04276203 0.06024105 0.13177231\n",
      " 0.12131368 0.17480621 0.0745537  0.0860358  0.04493692 0.381532\n",
      " 0.0807905  0.0387321  0.01309727 0.05797022 0.10890405 0.00337427\n",
      " 0.03569366 0.03534184 0.03460075 0.08343022 0.07366078 0.04093158\n",
      " 0.02827691 0.03686078 0.05974205 0.09215523]\n",
      "8 day output [[0.12043066]]\n",
      "9 day input [0.12932557 0.05088586 0.03188753 0.08355708 0.02894513 0.06742137\n",
      " 0.03433436 0.11045526 0.08523621 0.03195159 0.02504314 0.03532585\n",
      " 0.1082324  0.05520364 0.01184991 0.02461136 0.05475587 0.09646245\n",
      " 0.02371582 0.02398768 0.04696787 0.00673254 0.06088073 0.34160051\n",
      " 0.04148269 0.08758693 0.06767723 0.05680282 0.04484096 0.04655209\n",
      " 0.06633393 0.10525793 0.03956368 0.04199443 0.05598724 0.02030957\n",
      " 0.04994234 0.08103037 0.06460681 0.04288997 0.04701585 0.0332949\n",
      " 0.04124281 0.05907365 0.05715464 0.04791139 0.07388205 0.0200537\n",
      " 0.0595694  0.10693707 0.0897459  0.06497462 0.06838087 0.20178435\n",
      " 0.02864129 0.10655326 0.0582101  0.17106413 0.1047302  0.12977333\n",
      " 0.06820497 0.02269236 0.01504827 0.12707072 0.02619454 0.06179226\n",
      " 0.03369469 0.06641388 0.05907365 0.24923197 0.09470335 0.02381177\n",
      " 0.0959667  0.06297565 0.04276203 0.06024105 0.13177231 0.12131368\n",
      " 0.17480621 0.0745537  0.0860358  0.04493692 0.381532   0.0807905\n",
      " 0.0387321  0.01309727 0.05797022 0.10890405 0.00337427 0.03569366\n",
      " 0.03534184 0.03460075 0.08343022 0.07366078 0.04093158 0.02827691\n",
      " 0.03686078 0.05974205 0.09215523 0.12043066]\n"
     ]
    },
    {
     "name": "stdout",
     "output_type": "stream",
     "text": [
      "9 day output [[0.11783382]]\n",
      "10 day input [0.05088586 0.03188753 0.08355708 0.02894513 0.06742137 0.03433436\n",
      " 0.11045526 0.08523621 0.03195159 0.02504314 0.03532585 0.1082324\n",
      " 0.05520364 0.01184991 0.02461136 0.05475587 0.09646245 0.02371582\n",
      " 0.02398768 0.04696787 0.00673254 0.06088073 0.34160051 0.04148269\n",
      " 0.08758693 0.06767723 0.05680282 0.04484096 0.04655209 0.06633393\n",
      " 0.10525793 0.03956368 0.04199443 0.05598724 0.02030957 0.04994234\n",
      " 0.08103037 0.06460681 0.04288997 0.04701585 0.0332949  0.04124281\n",
      " 0.05907365 0.05715464 0.04791139 0.07388205 0.0200537  0.0595694\n",
      " 0.10693707 0.0897459  0.06497462 0.06838087 0.20178435 0.02864129\n",
      " 0.10655326 0.0582101  0.17106413 0.1047302  0.12977333 0.06820497\n",
      " 0.02269236 0.01504827 0.12707072 0.02619454 0.06179226 0.03369469\n",
      " 0.06641388 0.05907365 0.24923197 0.09470335 0.02381177 0.0959667\n",
      " 0.06297565 0.04276203 0.06024105 0.13177231 0.12131368 0.17480621\n",
      " 0.0745537  0.0860358  0.04493692 0.381532   0.0807905  0.0387321\n",
      " 0.01309727 0.05797022 0.10890405 0.00337427 0.03569366 0.03534184\n",
      " 0.03460075 0.08343022 0.07366078 0.04093158 0.02827691 0.03686078\n",
      " 0.05974205 0.09215523 0.12043066 0.11783382]\n",
      "10 day output [[0.08435263]]\n",
      "11 day input [0.03188753 0.08355708 0.02894513 0.06742137 0.03433436 0.11045526\n",
      " 0.08523621 0.03195159 0.02504314 0.03532585 0.1082324  0.05520364\n",
      " 0.01184991 0.02461136 0.05475587 0.09646245 0.02371582 0.02398768\n",
      " 0.04696787 0.00673254 0.06088073 0.34160051 0.04148269 0.08758693\n",
      " 0.06767723 0.05680282 0.04484096 0.04655209 0.06633393 0.10525793\n",
      " 0.03956368 0.04199443 0.05598724 0.02030957 0.04994234 0.08103037\n",
      " 0.06460681 0.04288997 0.04701585 0.0332949  0.04124281 0.05907365\n",
      " 0.05715464 0.04791139 0.07388205 0.0200537  0.0595694  0.10693707\n",
      " 0.0897459  0.06497462 0.06838087 0.20178435 0.02864129 0.10655326\n",
      " 0.0582101  0.17106413 0.1047302  0.12977333 0.06820497 0.02269236\n",
      " 0.01504827 0.12707072 0.02619454 0.06179226 0.03369469 0.06641388\n",
      " 0.05907365 0.24923197 0.09470335 0.02381177 0.0959667  0.06297565\n",
      " 0.04276203 0.06024105 0.13177231 0.12131368 0.17480621 0.0745537\n",
      " 0.0860358  0.04493692 0.381532   0.0807905  0.0387321  0.01309727\n",
      " 0.05797022 0.10890405 0.00337427 0.03569366 0.03534184 0.03460075\n",
      " 0.08343022 0.07366078 0.04093158 0.02827691 0.03686078 0.05974205\n",
      " 0.09215523 0.12043066 0.11783382 0.08435263]\n",
      "11 day output [[0.05824788]]\n",
      "12 day input [0.08355708 0.02894513 0.06742137 0.03433436 0.11045526 0.08523621\n",
      " 0.03195159 0.02504314 0.03532585 0.1082324  0.05520364 0.01184991\n",
      " 0.02461136 0.05475587 0.09646245 0.02371582 0.02398768 0.04696787\n",
      " 0.00673254 0.06088073 0.34160051 0.04148269 0.08758693 0.06767723\n",
      " 0.05680282 0.04484096 0.04655209 0.06633393 0.10525793 0.03956368\n",
      " 0.04199443 0.05598724 0.02030957 0.04994234 0.08103037 0.06460681\n",
      " 0.04288997 0.04701585 0.0332949  0.04124281 0.05907365 0.05715464\n",
      " 0.04791139 0.07388205 0.0200537  0.0595694  0.10693707 0.0897459\n",
      " 0.06497462 0.06838087 0.20178435 0.02864129 0.10655326 0.0582101\n",
      " 0.17106413 0.1047302  0.12977333 0.06820497 0.02269236 0.01504827\n",
      " 0.12707072 0.02619454 0.06179226 0.03369469 0.06641388 0.05907365\n",
      " 0.24923197 0.09470335 0.02381177 0.0959667  0.06297565 0.04276203\n",
      " 0.06024105 0.13177231 0.12131368 0.17480621 0.0745537  0.0860358\n",
      " 0.04493692 0.381532   0.0807905  0.0387321  0.01309727 0.05797022\n",
      " 0.10890405 0.00337427 0.03569366 0.03534184 0.03460075 0.08343022\n",
      " 0.07366078 0.04093158 0.02827691 0.03686078 0.05974205 0.09215523\n",
      " 0.12043066 0.11783382 0.08435263 0.05824788]\n",
      "12 day output [[0.05545038]]\n",
      "13 day input [0.02894513 0.06742137 0.03433436 0.11045526 0.08523621 0.03195159\n",
      " 0.02504314 0.03532585 0.1082324  0.05520364 0.01184991 0.02461136\n",
      " 0.05475587 0.09646245 0.02371582 0.02398768 0.04696787 0.00673254\n",
      " 0.06088073 0.34160051 0.04148269 0.08758693 0.06767723 0.05680282\n",
      " 0.04484096 0.04655209 0.06633393 0.10525793 0.03956368 0.04199443\n",
      " 0.05598724 0.02030957 0.04994234 0.08103037 0.06460681 0.04288997\n",
      " 0.04701585 0.0332949  0.04124281 0.05907365 0.05715464 0.04791139\n",
      " 0.07388205 0.0200537  0.0595694  0.10693707 0.0897459  0.06497462\n",
      " 0.06838087 0.20178435 0.02864129 0.10655326 0.0582101  0.17106413\n",
      " 0.1047302  0.12977333 0.06820497 0.02269236 0.01504827 0.12707072\n",
      " 0.02619454 0.06179226 0.03369469 0.06641388 0.05907365 0.24923197\n",
      " 0.09470335 0.02381177 0.0959667  0.06297565 0.04276203 0.06024105\n",
      " 0.13177231 0.12131368 0.17480621 0.0745537  0.0860358  0.04493692\n",
      " 0.381532   0.0807905  0.0387321  0.01309727 0.05797022 0.10890405\n",
      " 0.00337427 0.03569366 0.03534184 0.03460075 0.08343022 0.07366078\n",
      " 0.04093158 0.02827691 0.03686078 0.05974205 0.09215523 0.12043066\n",
      " 0.11783382 0.08435263 0.05824788 0.05545038]\n",
      "13 day output [[0.06065389]]\n",
      "14 day input [0.06742137 0.03433436 0.11045526 0.08523621 0.03195159 0.02504314\n",
      " 0.03532585 0.1082324  0.05520364 0.01184991 0.02461136 0.05475587\n",
      " 0.09646245 0.02371582 0.02398768 0.04696787 0.00673254 0.06088073\n",
      " 0.34160051 0.04148269 0.08758693 0.06767723 0.05680282 0.04484096\n",
      " 0.04655209 0.06633393 0.10525793 0.03956368 0.04199443 0.05598724\n",
      " 0.02030957 0.04994234 0.08103037 0.06460681 0.04288997 0.04701585\n",
      " 0.0332949  0.04124281 0.05907365 0.05715464 0.04791139 0.07388205\n",
      " 0.0200537  0.0595694  0.10693707 0.0897459  0.06497462 0.06838087\n",
      " 0.20178435 0.02864129 0.10655326 0.0582101  0.17106413 0.1047302\n",
      " 0.12977333 0.06820497 0.02269236 0.01504827 0.12707072 0.02619454\n",
      " 0.06179226 0.03369469 0.06641388 0.05907365 0.24923197 0.09470335\n",
      " 0.02381177 0.0959667  0.06297565 0.04276203 0.06024105 0.13177231\n",
      " 0.12131368 0.17480621 0.0745537  0.0860358  0.04493692 0.381532\n",
      " 0.0807905  0.0387321  0.01309727 0.05797022 0.10890405 0.00337427\n",
      " 0.03569366 0.03534184 0.03460075 0.08343022 0.07366078 0.04093158\n",
      " 0.02827691 0.03686078 0.05974205 0.09215523 0.12043066 0.11783382\n",
      " 0.08435263 0.05824788 0.05545038 0.06065389]\n",
      "14 day output [[0.06359797]]\n",
      "15 day input [0.03433436 0.11045526 0.08523621 0.03195159 0.02504314 0.03532585\n",
      " 0.1082324  0.05520364 0.01184991 0.02461136 0.05475587 0.09646245\n",
      " 0.02371582 0.02398768 0.04696787 0.00673254 0.06088073 0.34160051\n",
      " 0.04148269 0.08758693 0.06767723 0.05680282 0.04484096 0.04655209\n",
      " 0.06633393 0.10525793 0.03956368 0.04199443 0.05598724 0.02030957\n",
      " 0.04994234 0.08103037 0.06460681 0.04288997 0.04701585 0.0332949\n",
      " 0.04124281 0.05907365 0.05715464 0.04791139 0.07388205 0.0200537\n",
      " 0.0595694  0.10693707 0.0897459  0.06497462 0.06838087 0.20178435\n",
      " 0.02864129 0.10655326 0.0582101  0.17106413 0.1047302  0.12977333\n",
      " 0.06820497 0.02269236 0.01504827 0.12707072 0.02619454 0.06179226\n",
      " 0.03369469 0.06641388 0.05907365 0.24923197 0.09470335 0.02381177\n",
      " 0.0959667  0.06297565 0.04276203 0.06024105 0.13177231 0.12131368\n",
      " 0.17480621 0.0745537  0.0860358  0.04493692 0.381532   0.0807905\n",
      " 0.0387321  0.01309727 0.05797022 0.10890405 0.00337427 0.03569366\n",
      " 0.03534184 0.03460075 0.08343022 0.07366078 0.04093158 0.02827691\n",
      " 0.03686078 0.05974205 0.09215523 0.12043066 0.11783382 0.08435263\n",
      " 0.05824788 0.05545038 0.06065389 0.06359797]\n",
      "15 day output [[0.06741399]]\n",
      "16 day input [0.11045526 0.08523621 0.03195159 0.02504314 0.03532585 0.1082324\n",
      " 0.05520364 0.01184991 0.02461136 0.05475587 0.09646245 0.02371582\n",
      " 0.02398768 0.04696787 0.00673254 0.06088073 0.34160051 0.04148269\n",
      " 0.08758693 0.06767723 0.05680282 0.04484096 0.04655209 0.06633393\n",
      " 0.10525793 0.03956368 0.04199443 0.05598724 0.02030957 0.04994234\n",
      " 0.08103037 0.06460681 0.04288997 0.04701585 0.0332949  0.04124281\n",
      " 0.05907365 0.05715464 0.04791139 0.07388205 0.0200537  0.0595694\n",
      " 0.10693707 0.0897459  0.06497462 0.06838087 0.20178435 0.02864129\n",
      " 0.10655326 0.0582101  0.17106413 0.1047302  0.12977333 0.06820497\n",
      " 0.02269236 0.01504827 0.12707072 0.02619454 0.06179226 0.03369469\n",
      " 0.06641388 0.05907365 0.24923197 0.09470335 0.02381177 0.0959667\n",
      " 0.06297565 0.04276203 0.06024105 0.13177231 0.12131368 0.17480621\n",
      " 0.0745537  0.0860358  0.04493692 0.381532   0.0807905  0.0387321\n",
      " 0.01309727 0.05797022 0.10890405 0.00337427 0.03569366 0.03534184\n",
      " 0.03460075 0.08343022 0.07366078 0.04093158 0.02827691 0.03686078\n",
      " 0.05974205 0.09215523 0.12043066 0.11783382 0.08435263 0.05824788\n",
      " 0.05545038 0.06065389 0.06359797 0.06741399]\n",
      "16 day output [[0.08704127]]\n",
      "17 day input [0.08523621 0.03195159 0.02504314 0.03532585 0.1082324  0.05520364\n",
      " 0.01184991 0.02461136 0.05475587 0.09646245 0.02371582 0.02398768\n",
      " 0.04696787 0.00673254 0.06088073 0.34160051 0.04148269 0.08758693\n",
      " 0.06767723 0.05680282 0.04484096 0.04655209 0.06633393 0.10525793\n",
      " 0.03956368 0.04199443 0.05598724 0.02030957 0.04994234 0.08103037\n",
      " 0.06460681 0.04288997 0.04701585 0.0332949  0.04124281 0.05907365\n",
      " 0.05715464 0.04791139 0.07388205 0.0200537  0.0595694  0.10693707\n",
      " 0.0897459  0.06497462 0.06838087 0.20178435 0.02864129 0.10655326\n",
      " 0.0582101  0.17106413 0.1047302  0.12977333 0.06820497 0.02269236\n",
      " 0.01504827 0.12707072 0.02619454 0.06179226 0.03369469 0.06641388\n",
      " 0.05907365 0.24923197 0.09470335 0.02381177 0.0959667  0.06297565\n",
      " 0.04276203 0.06024105 0.13177231 0.12131368 0.17480621 0.0745537\n",
      " 0.0860358  0.04493692 0.381532   0.0807905  0.0387321  0.01309727\n",
      " 0.05797022 0.10890405 0.00337427 0.03569366 0.03534184 0.03460075\n",
      " 0.08343022 0.07366078 0.04093158 0.02827691 0.03686078 0.05974205\n",
      " 0.09215523 0.12043066 0.11783382 0.08435263 0.05824788 0.05545038\n",
      " 0.06065389 0.06359797 0.06741399 0.08704127]\n"
     ]
    },
    {
     "name": "stdout",
     "output_type": "stream",
     "text": [
      "17 day output [[0.15811367]]\n",
      "18 day input [0.03195159 0.02504314 0.03532585 0.1082324  0.05520364 0.01184991\n",
      " 0.02461136 0.05475587 0.09646245 0.02371582 0.02398768 0.04696787\n",
      " 0.00673254 0.06088073 0.34160051 0.04148269 0.08758693 0.06767723\n",
      " 0.05680282 0.04484096 0.04655209 0.06633393 0.10525793 0.03956368\n",
      " 0.04199443 0.05598724 0.02030957 0.04994234 0.08103037 0.06460681\n",
      " 0.04288997 0.04701585 0.0332949  0.04124281 0.05907365 0.05715464\n",
      " 0.04791139 0.07388205 0.0200537  0.0595694  0.10693707 0.0897459\n",
      " 0.06497462 0.06838087 0.20178435 0.02864129 0.10655326 0.0582101\n",
      " 0.17106413 0.1047302  0.12977333 0.06820497 0.02269236 0.01504827\n",
      " 0.12707072 0.02619454 0.06179226 0.03369469 0.06641388 0.05907365\n",
      " 0.24923197 0.09470335 0.02381177 0.0959667  0.06297565 0.04276203\n",
      " 0.06024105 0.13177231 0.12131368 0.17480621 0.0745537  0.0860358\n",
      " 0.04493692 0.381532   0.0807905  0.0387321  0.01309727 0.05797022\n",
      " 0.10890405 0.00337427 0.03569366 0.03534184 0.03460075 0.08343022\n",
      " 0.07366078 0.04093158 0.02827691 0.03686078 0.05974205 0.09215523\n",
      " 0.12043066 0.11783382 0.08435263 0.05824788 0.05545038 0.06065389\n",
      " 0.06359797 0.06741399 0.08704127 0.15811367]\n",
      "18 day output [[0.05625553]]\n",
      "19 day input [0.02504314 0.03532585 0.1082324  0.05520364 0.01184991 0.02461136\n",
      " 0.05475587 0.09646245 0.02371582 0.02398768 0.04696787 0.00673254\n",
      " 0.06088073 0.34160051 0.04148269 0.08758693 0.06767723 0.05680282\n",
      " 0.04484096 0.04655209 0.06633393 0.10525793 0.03956368 0.04199443\n",
      " 0.05598724 0.02030957 0.04994234 0.08103037 0.06460681 0.04288997\n",
      " 0.04701585 0.0332949  0.04124281 0.05907365 0.05715464 0.04791139\n",
      " 0.07388205 0.0200537  0.0595694  0.10693707 0.0897459  0.06497462\n",
      " 0.06838087 0.20178435 0.02864129 0.10655326 0.0582101  0.17106413\n",
      " 0.1047302  0.12977333 0.06820497 0.02269236 0.01504827 0.12707072\n",
      " 0.02619454 0.06179226 0.03369469 0.06641388 0.05907365 0.24923197\n",
      " 0.09470335 0.02381177 0.0959667  0.06297565 0.04276203 0.06024105\n",
      " 0.13177231 0.12131368 0.17480621 0.0745537  0.0860358  0.04493692\n",
      " 0.381532   0.0807905  0.0387321  0.01309727 0.05797022 0.10890405\n",
      " 0.00337427 0.03569366 0.03534184 0.03460075 0.08343022 0.07366078\n",
      " 0.04093158 0.02827691 0.03686078 0.05974205 0.09215523 0.12043066\n",
      " 0.11783382 0.08435263 0.05824788 0.05545038 0.06065389 0.06359797\n",
      " 0.06741399 0.08704127 0.15811367 0.05625553]\n",
      "19 day output [[0.14835419]]\n",
      "20 day input [0.03532585 0.1082324  0.05520364 0.01184991 0.02461136 0.05475587\n",
      " 0.09646245 0.02371582 0.02398768 0.04696787 0.00673254 0.06088073\n",
      " 0.34160051 0.04148269 0.08758693 0.06767723 0.05680282 0.04484096\n",
      " 0.04655209 0.06633393 0.10525793 0.03956368 0.04199443 0.05598724\n",
      " 0.02030957 0.04994234 0.08103037 0.06460681 0.04288997 0.04701585\n",
      " 0.0332949  0.04124281 0.05907365 0.05715464 0.04791139 0.07388205\n",
      " 0.0200537  0.0595694  0.10693707 0.0897459  0.06497462 0.06838087\n",
      " 0.20178435 0.02864129 0.10655326 0.0582101  0.17106413 0.1047302\n",
      " 0.12977333 0.06820497 0.02269236 0.01504827 0.12707072 0.02619454\n",
      " 0.06179226 0.03369469 0.06641388 0.05907365 0.24923197 0.09470335\n",
      " 0.02381177 0.0959667  0.06297565 0.04276203 0.06024105 0.13177231\n",
      " 0.12131368 0.17480621 0.0745537  0.0860358  0.04493692 0.381532\n",
      " 0.0807905  0.0387321  0.01309727 0.05797022 0.10890405 0.00337427\n",
      " 0.03569366 0.03534184 0.03460075 0.08343022 0.07366078 0.04093158\n",
      " 0.02827691 0.03686078 0.05974205 0.09215523 0.12043066 0.11783382\n",
      " 0.08435263 0.05824788 0.05545038 0.06065389 0.06359797 0.06741399\n",
      " 0.08704127 0.15811367 0.05625553 0.14835419]\n",
      "20 day output [[0.2272631]]\n",
      "21 day input [0.1082324  0.05520364 0.01184991 0.02461136 0.05475587 0.09646245\n",
      " 0.02371582 0.02398768 0.04696787 0.00673254 0.06088073 0.34160051\n",
      " 0.04148269 0.08758693 0.06767723 0.05680282 0.04484096 0.04655209\n",
      " 0.06633393 0.10525793 0.03956368 0.04199443 0.05598724 0.02030957\n",
      " 0.04994234 0.08103037 0.06460681 0.04288997 0.04701585 0.0332949\n",
      " 0.04124281 0.05907365 0.05715464 0.04791139 0.07388205 0.0200537\n",
      " 0.0595694  0.10693707 0.0897459  0.06497462 0.06838087 0.20178435\n",
      " 0.02864129 0.10655326 0.0582101  0.17106413 0.1047302  0.12977333\n",
      " 0.06820497 0.02269236 0.01504827 0.12707072 0.02619454 0.06179226\n",
      " 0.03369469 0.06641388 0.05907365 0.24923197 0.09470335 0.02381177\n",
      " 0.0959667  0.06297565 0.04276203 0.06024105 0.13177231 0.12131368\n",
      " 0.17480621 0.0745537  0.0860358  0.04493692 0.381532   0.0807905\n",
      " 0.0387321  0.01309727 0.05797022 0.10890405 0.00337427 0.03569366\n",
      " 0.03534184 0.03460075 0.08343022 0.07366078 0.04093158 0.02827691\n",
      " 0.03686078 0.05974205 0.09215523 0.12043066 0.11783382 0.08435263\n",
      " 0.05824788 0.05545038 0.06065389 0.06359797 0.06741399 0.08704127\n",
      " 0.15811367 0.05625553 0.14835419 0.22726309]\n",
      "21 day output [[0.0453572]]\n",
      "22 day input [0.05520364 0.01184991 0.02461136 0.05475587 0.09646245 0.02371582\n",
      " 0.02398768 0.04696787 0.00673254 0.06088073 0.34160051 0.04148269\n",
      " 0.08758693 0.06767723 0.05680282 0.04484096 0.04655209 0.06633393\n",
      " 0.10525793 0.03956368 0.04199443 0.05598724 0.02030957 0.04994234\n",
      " 0.08103037 0.06460681 0.04288997 0.04701585 0.0332949  0.04124281\n",
      " 0.05907365 0.05715464 0.04791139 0.07388205 0.0200537  0.0595694\n",
      " 0.10693707 0.0897459  0.06497462 0.06838087 0.20178435 0.02864129\n",
      " 0.10655326 0.0582101  0.17106413 0.1047302  0.12977333 0.06820497\n",
      " 0.02269236 0.01504827 0.12707072 0.02619454 0.06179226 0.03369469\n",
      " 0.06641388 0.05907365 0.24923197 0.09470335 0.02381177 0.0959667\n",
      " 0.06297565 0.04276203 0.06024105 0.13177231 0.12131368 0.17480621\n",
      " 0.0745537  0.0860358  0.04493692 0.381532   0.0807905  0.0387321\n",
      " 0.01309727 0.05797022 0.10890405 0.00337427 0.03569366 0.03534184\n",
      " 0.03460075 0.08343022 0.07366078 0.04093158 0.02827691 0.03686078\n",
      " 0.05974205 0.09215523 0.12043066 0.11783382 0.08435263 0.05824788\n",
      " 0.05545038 0.06065389 0.06359797 0.06741399 0.08704127 0.15811367\n",
      " 0.05625553 0.14835419 0.22726309 0.0453572 ]\n",
      "22 day output [[0.08402523]]\n",
      "23 day input [0.01184991 0.02461136 0.05475587 0.09646245 0.02371582 0.02398768\n",
      " 0.04696787 0.00673254 0.06088073 0.34160051 0.04148269 0.08758693\n",
      " 0.06767723 0.05680282 0.04484096 0.04655209 0.06633393 0.10525793\n",
      " 0.03956368 0.04199443 0.05598724 0.02030957 0.04994234 0.08103037\n",
      " 0.06460681 0.04288997 0.04701585 0.0332949  0.04124281 0.05907365\n",
      " 0.05715464 0.04791139 0.07388205 0.0200537  0.0595694  0.10693707\n",
      " 0.0897459  0.06497462 0.06838087 0.20178435 0.02864129 0.10655326\n",
      " 0.0582101  0.17106413 0.1047302  0.12977333 0.06820497 0.02269236\n",
      " 0.01504827 0.12707072 0.02619454 0.06179226 0.03369469 0.06641388\n",
      " 0.05907365 0.24923197 0.09470335 0.02381177 0.0959667  0.06297565\n",
      " 0.04276203 0.06024105 0.13177231 0.12131368 0.17480621 0.0745537\n",
      " 0.0860358  0.04493692 0.381532   0.0807905  0.0387321  0.01309727\n",
      " 0.05797022 0.10890405 0.00337427 0.03569366 0.03534184 0.03460075\n",
      " 0.08343022 0.07366078 0.04093158 0.02827691 0.03686078 0.05974205\n",
      " 0.09215523 0.12043066 0.11783382 0.08435263 0.05824788 0.05545038\n",
      " 0.06065389 0.06359797 0.06741399 0.08704127 0.15811367 0.05625553\n",
      " 0.14835419 0.22726309 0.0453572  0.08402523]\n",
      "23 day output [[0.02461896]]\n",
      "24 day input [0.02461136 0.05475587 0.09646245 0.02371582 0.02398768 0.04696787\n",
      " 0.00673254 0.06088073 0.34160051 0.04148269 0.08758693 0.06767723\n",
      " 0.05680282 0.04484096 0.04655209 0.06633393 0.10525793 0.03956368\n",
      " 0.04199443 0.05598724 0.02030957 0.04994234 0.08103037 0.06460681\n",
      " 0.04288997 0.04701585 0.0332949  0.04124281 0.05907365 0.05715464\n",
      " 0.04791139 0.07388205 0.0200537  0.0595694  0.10693707 0.0897459\n",
      " 0.06497462 0.06838087 0.20178435 0.02864129 0.10655326 0.0582101\n",
      " 0.17106413 0.1047302  0.12977333 0.06820497 0.02269236 0.01504827\n",
      " 0.12707072 0.02619454 0.06179226 0.03369469 0.06641388 0.05907365\n",
      " 0.24923197 0.09470335 0.02381177 0.0959667  0.06297565 0.04276203\n",
      " 0.06024105 0.13177231 0.12131368 0.17480621 0.0745537  0.0860358\n",
      " 0.04493692 0.381532   0.0807905  0.0387321  0.01309727 0.05797022\n",
      " 0.10890405 0.00337427 0.03569366 0.03534184 0.03460075 0.08343022\n",
      " 0.07366078 0.04093158 0.02827691 0.03686078 0.05974205 0.09215523\n",
      " 0.12043066 0.11783382 0.08435263 0.05824788 0.05545038 0.06065389\n",
      " 0.06359797 0.06741399 0.08704127 0.15811367 0.05625553 0.14835419\n",
      " 0.22726309 0.0453572  0.08402523 0.02461896]\n",
      "24 day output [[0.02957669]]\n",
      "25 day input [0.05475587 0.09646245 0.02371582 0.02398768 0.04696787 0.00673254\n",
      " 0.06088073 0.34160051 0.04148269 0.08758693 0.06767723 0.05680282\n",
      " 0.04484096 0.04655209 0.06633393 0.10525793 0.03956368 0.04199443\n",
      " 0.05598724 0.02030957 0.04994234 0.08103037 0.06460681 0.04288997\n",
      " 0.04701585 0.0332949  0.04124281 0.05907365 0.05715464 0.04791139\n",
      " 0.07388205 0.0200537  0.0595694  0.10693707 0.0897459  0.06497462\n",
      " 0.06838087 0.20178435 0.02864129 0.10655326 0.0582101  0.17106413\n",
      " 0.1047302  0.12977333 0.06820497 0.02269236 0.01504827 0.12707072\n",
      " 0.02619454 0.06179226 0.03369469 0.06641388 0.05907365 0.24923197\n",
      " 0.09470335 0.02381177 0.0959667  0.06297565 0.04276203 0.06024105\n",
      " 0.13177231 0.12131368 0.17480621 0.0745537  0.0860358  0.04493692\n",
      " 0.381532   0.0807905  0.0387321  0.01309727 0.05797022 0.10890405\n",
      " 0.00337427 0.03569366 0.03534184 0.03460075 0.08343022 0.07366078\n",
      " 0.04093158 0.02827691 0.03686078 0.05974205 0.09215523 0.12043066\n",
      " 0.11783382 0.08435263 0.05824788 0.05545038 0.06065389 0.06359797\n",
      " 0.06741399 0.08704127 0.15811367 0.05625553 0.14835419 0.22726309\n",
      " 0.0453572  0.08402523 0.02461896 0.02957669]\n",
      "25 day output [[0.02399933]]\n",
      "26 day input [0.09646245 0.02371582 0.02398768 0.04696787 0.00673254 0.06088073\n",
      " 0.34160051 0.04148269 0.08758693 0.06767723 0.05680282 0.04484096\n",
      " 0.04655209 0.06633393 0.10525793 0.03956368 0.04199443 0.05598724\n",
      " 0.02030957 0.04994234 0.08103037 0.06460681 0.04288997 0.04701585\n",
      " 0.0332949  0.04124281 0.05907365 0.05715464 0.04791139 0.07388205\n",
      " 0.0200537  0.0595694  0.10693707 0.0897459  0.06497462 0.06838087\n",
      " 0.20178435 0.02864129 0.10655326 0.0582101  0.17106413 0.1047302\n",
      " 0.12977333 0.06820497 0.02269236 0.01504827 0.12707072 0.02619454\n",
      " 0.06179226 0.03369469 0.06641388 0.05907365 0.24923197 0.09470335\n",
      " 0.02381177 0.0959667  0.06297565 0.04276203 0.06024105 0.13177231\n",
      " 0.12131368 0.17480621 0.0745537  0.0860358  0.04493692 0.381532\n",
      " 0.0807905  0.0387321  0.01309727 0.05797022 0.10890405 0.00337427\n",
      " 0.03569366 0.03534184 0.03460075 0.08343022 0.07366078 0.04093158\n",
      " 0.02827691 0.03686078 0.05974205 0.09215523 0.12043066 0.11783382\n",
      " 0.08435263 0.05824788 0.05545038 0.06065389 0.06359797 0.06741399\n",
      " 0.08704127 0.15811367 0.05625553 0.14835419 0.22726309 0.0453572\n",
      " 0.08402523 0.02461896 0.02957669 0.02399933]\n"
     ]
    },
    {
     "name": "stdout",
     "output_type": "stream",
     "text": [
      "26 day output [[0.03113647]]\n",
      "27 day input [0.02371582 0.02398768 0.04696787 0.00673254 0.06088073 0.34160051\n",
      " 0.04148269 0.08758693 0.06767723 0.05680282 0.04484096 0.04655209\n",
      " 0.06633393 0.10525793 0.03956368 0.04199443 0.05598724 0.02030957\n",
      " 0.04994234 0.08103037 0.06460681 0.04288997 0.04701585 0.0332949\n",
      " 0.04124281 0.05907365 0.05715464 0.04791139 0.07388205 0.0200537\n",
      " 0.0595694  0.10693707 0.0897459  0.06497462 0.06838087 0.20178435\n",
      " 0.02864129 0.10655326 0.0582101  0.17106413 0.1047302  0.12977333\n",
      " 0.06820497 0.02269236 0.01504827 0.12707072 0.02619454 0.06179226\n",
      " 0.03369469 0.06641388 0.05907365 0.24923197 0.09470335 0.02381177\n",
      " 0.0959667  0.06297565 0.04276203 0.06024105 0.13177231 0.12131368\n",
      " 0.17480621 0.0745537  0.0860358  0.04493692 0.381532   0.0807905\n",
      " 0.0387321  0.01309727 0.05797022 0.10890405 0.00337427 0.03569366\n",
      " 0.03534184 0.03460075 0.08343022 0.07366078 0.04093158 0.02827691\n",
      " 0.03686078 0.05974205 0.09215523 0.12043066 0.11783382 0.08435263\n",
      " 0.05824788 0.05545038 0.06065389 0.06359797 0.06741399 0.08704127\n",
      " 0.15811367 0.05625553 0.14835419 0.22726309 0.0453572  0.08402523\n",
      " 0.02461896 0.02957669 0.02399933 0.03113647]\n",
      "27 day output [[0.01721892]]\n",
      "28 day input [0.02398768 0.04696787 0.00673254 0.06088073 0.34160051 0.04148269\n",
      " 0.08758693 0.06767723 0.05680282 0.04484096 0.04655209 0.06633393\n",
      " 0.10525793 0.03956368 0.04199443 0.05598724 0.02030957 0.04994234\n",
      " 0.08103037 0.06460681 0.04288997 0.04701585 0.0332949  0.04124281\n",
      " 0.05907365 0.05715464 0.04791139 0.07388205 0.0200537  0.0595694\n",
      " 0.10693707 0.0897459  0.06497462 0.06838087 0.20178435 0.02864129\n",
      " 0.10655326 0.0582101  0.17106413 0.1047302  0.12977333 0.06820497\n",
      " 0.02269236 0.01504827 0.12707072 0.02619454 0.06179226 0.03369469\n",
      " 0.06641388 0.05907365 0.24923197 0.09470335 0.02381177 0.0959667\n",
      " 0.06297565 0.04276203 0.06024105 0.13177231 0.12131368 0.17480621\n",
      " 0.0745537  0.0860358  0.04493692 0.381532   0.0807905  0.0387321\n",
      " 0.01309727 0.05797022 0.10890405 0.00337427 0.03569366 0.03534184\n",
      " 0.03460075 0.08343022 0.07366078 0.04093158 0.02827691 0.03686078\n",
      " 0.05974205 0.09215523 0.12043066 0.11783382 0.08435263 0.05824788\n",
      " 0.05545038 0.06065389 0.06359797 0.06741399 0.08704127 0.15811367\n",
      " 0.05625553 0.14835419 0.22726309 0.0453572  0.08402523 0.02461896\n",
      " 0.02957669 0.02399933 0.03113647 0.01721892]\n",
      "28 day output [[0.07953086]]\n",
      "29 day input [0.04696787 0.00673254 0.06088073 0.34160051 0.04148269 0.08758693\n",
      " 0.06767723 0.05680282 0.04484096 0.04655209 0.06633393 0.10525793\n",
      " 0.03956368 0.04199443 0.05598724 0.02030957 0.04994234 0.08103037\n",
      " 0.06460681 0.04288997 0.04701585 0.0332949  0.04124281 0.05907365\n",
      " 0.05715464 0.04791139 0.07388205 0.0200537  0.0595694  0.10693707\n",
      " 0.0897459  0.06497462 0.06838087 0.20178435 0.02864129 0.10655326\n",
      " 0.0582101  0.17106413 0.1047302  0.12977333 0.06820497 0.02269236\n",
      " 0.01504827 0.12707072 0.02619454 0.06179226 0.03369469 0.06641388\n",
      " 0.05907365 0.24923197 0.09470335 0.02381177 0.0959667  0.06297565\n",
      " 0.04276203 0.06024105 0.13177231 0.12131368 0.17480621 0.0745537\n",
      " 0.0860358  0.04493692 0.381532   0.0807905  0.0387321  0.01309727\n",
      " 0.05797022 0.10890405 0.00337427 0.03569366 0.03534184 0.03460075\n",
      " 0.08343022 0.07366078 0.04093158 0.02827691 0.03686078 0.05974205\n",
      " 0.09215523 0.12043066 0.11783382 0.08435263 0.05824788 0.05545038\n",
      " 0.06065389 0.06359797 0.06741399 0.08704127 0.15811367 0.05625553\n",
      " 0.14835419 0.22726309 0.0453572  0.08402523 0.02461896 0.02957669\n",
      " 0.02399933 0.03113647 0.01721892 0.07953086]\n",
      "29 day output [[0.2005754]]\n",
      "[[0.034600745886564255], [0.0834302231669426], [0.07366078346967697], [0.0409315750002861], [0.028276905417442322], [0.03686078265309334], [0.05974205210804939], [0.09215522557497025], [0.12043065577745438], [0.11783382296562195], [0.08435263484716415], [0.0582478828728199], [0.05545038357377052], [0.06065388768911362], [0.06359796971082687], [0.06741398572921753], [0.08704127371311188], [0.15811367332935333], [0.056255534291267395], [0.1483541876077652], [0.22726309299468994], [0.045357201248407364], [0.08402523398399353], [0.024618960916996002], [0.029576687142252922], [0.023999331519007683], [0.031136468052864075], [0.017218923196196556], [0.07953086495399475], [0.20057539641857147]]\n"
     ]
    }
   ],
   "source": [
    "from numpy import array\n",
    "\n",
    "lst_output=[]\n",
    "n_steps=100\n",
    "i=0\n",
    "while(i<30):\n",
    "    \n",
    "    if(len(temp_input)>100):\n",
    "        #print(temp_input)\n",
    "        x_input=np.array(temp_input[1:])\n",
    "        print(\"{} day input {}\".format(i,x_input))\n",
    "        x_input=x_input.reshape(1,-1)\n",
    "        x_input = x_input.reshape((1, n_steps, 1))\n",
    "        #print(x_input)\n",
    "        yhat = model.predict(x_input, verbose=0)\n",
    "        print(\"{} day output {}\".format(i,yhat))\n",
    "        temp_input.extend(yhat[0].tolist())\n",
    "        temp_input=temp_input[1:]\n",
    "        #print(temp_input)\n",
    "        lst_output.extend(yhat.tolist())\n",
    "        i=i+1\n",
    "    else:\n",
    "        x_input = x_input.reshape((1, n_steps,1))\n",
    "        yhat = model.predict(x_input, verbose=0)\n",
    "        print(yhat[0])\n",
    "        temp_input.extend(yhat[0].tolist())\n",
    "        print(len(temp_input))\n",
    "        lst_output.extend(yhat.tolist())\n",
    "        i=i+1\n",
    "    \n",
    "\n",
    "print(lst_output)"
   ]
  },
  {
   "cell_type": "code",
   "execution_count": 39,
   "metadata": {},
   "outputs": [],
   "source": [
    "day_new=np.arange(1,101)\n",
    "day_pred=np.arange(101,131)"
   ]
  },
  {
   "cell_type": "code",
   "execution_count": 40,
   "metadata": {},
   "outputs": [
    {
     "data": {
      "text/plain": [
       "5001"
      ]
     },
     "execution_count": 40,
     "metadata": {},
     "output_type": "execute_result"
    }
   ],
   "source": [
    "len(df_stc)"
   ]
  },
  {
   "cell_type": "code",
   "execution_count": 49,
   "metadata": {},
   "outputs": [
    {
     "data": {
      "text/plain": [
       "4901"
      ]
     },
     "execution_count": 49,
     "metadata": {},
     "output_type": "execute_result"
    }
   ],
   "source": [
    "5001-100"
   ]
  },
  {
   "cell_type": "code",
   "execution_count": 43,
   "metadata": {},
   "outputs": [
    {
     "data": {
      "text/plain": [
       "[<matplotlib.lines.Line2D at 0x1f67a184508>]"
      ]
     },
     "execution_count": 43,
     "metadata": {},
     "output_type": "execute_result"
    },
    {
     "data": {
      "image/png": "[encoded data removed]",
      "text/plain": [
       "<Figure size 432x288 with 1 Axes>"
      ]
     },
     "metadata": {
      "needs_background": "light"
     },
     "output_type": "display_data"
    }
   ],
   "source": [
    "plt.plot(day_new,scaler.inverse_transform(df_stc[4901:]))\n",
    "plt.plot(day_pred,scaler.inverse_transform(lst_output))"
   ]
  },
  {
   "cell_type": "code",
   "execution_count": 44,
   "metadata": {},
   "outputs": [
    {
     "data": {
      "text/plain": [
       "[<matplotlib.lines.Line2D at 0x1f67d3d1cc8>]"
      ]
     },
     "execution_count": 44,
     "metadata": {},
     "output_type": "execute_result"
    },
    {
     "data": {
      "image/png": "[encoded data removed]",
      "text/plain": [
       "<Figure size 432x288 with 1 Axes>"
      ]
     },
     "metadata": {
      "needs_background": "light"
     },
     "output_type": "display_data"
    }
   ],
   "source": [
    "df3=df_stc.tolist()\n",
    "df3.extend(lst_output)\n",
    "plt.plot(df3[4000:])"
   ]
  },
  {
   "cell_type": "code",
   "execution_count": 45,
   "metadata": {},
   "outputs": [],
   "source": [
    "df3=scaler.inverse_transform(df3).tolist()"
   ]
  },
  {
   "cell_type": "code",
   "execution_count": 48,
   "metadata": {},
   "outputs": [
    {
     "data": {
      "text/plain": [
       "[<matplotlib.lines.Line2D at 0x1f67d540bc8>]"
      ]
     },
     "execution_count": 48,
     "metadata": {},
     "output_type": "execute_result"
    },
    {
     "data": {
      "image/png": "[encoded data removed]",
      "text/plain": [
       "<Figure size 432x288 with 1 Axes>"
      ]
     },
     "metadata": {
      "needs_background": "light"
     },
     "output_type": "display_data"
    }
   ],
   "source": [
    "plt.plot(df3)"
   ]
  },
  {
   "cell_type": "code",
   "execution_count": null,
   "metadata": {},
   "outputs": [],
   "source": []
  }
 ],
 "metadata": {
  "kernelspec": {
   "display_name": "Python 3",
   "language": "python",
   "name": "python3"
  },
  "language_info": {
   "codemirror_mode": {
    "name": "ipython",
    "version": 3
   },
   "file_extension": ".py",
   "mimetype": "text/x-python",
   "name": "python",
   "nbconvert_exporter": "python",
   "pygments_lexer": "ipython3",
   "version": "3.7.9"
  }
 },
 "nbformat": 4,
 "nbformat_minor": 4
}
